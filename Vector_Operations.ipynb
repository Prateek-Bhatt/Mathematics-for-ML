{
  "nbformat": 4,
  "nbformat_minor": 0,
  "metadata": {
    "colab": {
      "name": "Vector Operations.ipynb",
      "provenance": [],
      "authorship_tag": "ABX9TyOAUWmweMa5F1qfVz40Rz+m",
      "include_colab_link": true
    },
    "kernelspec": {
      "name": "python3",
      "display_name": "Python 3"
    },
    "language_info": {
      "name": "python"
    }
  },
  "cells": [
    {
      "cell_type": "markdown",
      "metadata": {
        "id": "view-in-github",
        "colab_type": "text"
      },
      "source": [
        "<a href=\"https://colab.research.google.com/github/Prateek-Bhatt/Mathematics-for-ML/blob/main/Vector_Operations.ipynb\" target=\"_parent\"><img src=\"https://colab.research.google.com/assets/colab-badge.svg\" alt=\"Open In Colab\"/></a>"
      ]
    },
    {
      "cell_type": "code",
      "execution_count": 1,
      "metadata": {
        "id": "5XM2WplDkj95"
      },
      "outputs": [],
      "source": [
        "import numpy as np\n",
        "import matplotlib.pyplot as plt\n",
        "import seaborn as sns"
      ]
    },
    {
      "cell_type": "code",
      "source": [
        "sns.set()"
      ],
      "metadata": {
        "id": "Vbl82SSgkoyy"
      },
      "execution_count": 2,
      "outputs": []
    },
    {
      "cell_type": "markdown",
      "source": [
        "Plotting a vector"
      ],
      "metadata": {
        "id": "-aDUqRu2kqrY"
      }
    },
    {
      "cell_type": "code",
      "source": [
        "plt.quiver(0, 0, 4, 5)\n",
        "plt.show()"
      ],
      "metadata": {
        "colab": {
          "base_uri": "https://localhost:8080/",
          "height": 268
        },
        "id": "euQ_NoRzkvFR",
        "outputId": "f65fd99f-c7c5-4a2b-c61a-b618a890de1e"
      },
      "execution_count": 3,
      "outputs": [
        {
          "output_type": "display_data",
          "data": {
            "text/plain": [
              "<Figure size 432x288 with 1 Axes>"
            ],
            "image/png": "[encoded data removed]"
          },
          "metadata": {}
        }
      ]
    },
    {
      "cell_type": "code",
      "source": [
        "plt.quiver(0, 0, 4, 5, scale_units = 'xy', angles = 'xy', scale = 1, color = 'b')\n",
        "plt.quiver(0, 0, -3, -6, scale_units = 'xy', angles = 'xy', scale = 1, color = 'y')\n",
        "plt.xlim(-8, 8)\n",
        "plt.ylim(-8, 8)\n",
        "plt.show()"
      ],
      "metadata": {
        "colab": {
          "base_uri": "https://localhost:8080/",
          "height": 272
        },
        "id": "aeY547Tvk16u",
        "outputId": "dc022ee7-7d0c-47a9-b503-f002c91a6764"
      },
      "execution_count": 7,
      "outputs": [
        {
          "output_type": "display_data",
          "data": {
            "text/plain": [
              "<Figure size 432x288 with 1 Axes>"
            ],
            "image/png": "[encoded data removed]"
          },
          "metadata": {}
        }
      ]
    },
    {
      "cell_type": "code",
      "source": [
        "vector1 = np.asarray([0, 0, 2, 3])\n",
        "vector2 = np.asarray([0, 0, 3, -2])\n",
        "sum = vector1 + vector2\n"
      ],
      "metadata": {
        "id": "U9RJ3PiVlO5g"
      },
      "execution_count": 8,
      "outputs": []
    },
    {
      "cell_type": "code",
      "source": [
        "print(sum)"
      ],
      "metadata": {
        "colab": {
          "base_uri": "https://localhost:8080/"
        },
        "id": "2N7J8m1-ok-c",
        "outputId": "f4998460-4b52-489d-c1c0-dbe09e938926"
      },
      "execution_count": 9,
      "outputs": [
        {
          "output_type": "stream",
          "name": "stdout",
          "text": [
            "[0 0 5 1]\n"
          ]
        }
      ]
    },
    {
      "cell_type": "code",
      "source": [
        "plt.quiver(0, 0, 2, 3, scale_units = 'xy', angles = 'xy', scale = 1, color = 'b')\n",
        "plt.quiver(0, 0, 3, -2, scale_units = 'xy', angles = 'xy', scale = 1, color = 'y')\n",
        "plt.quiver(0, 0, 5, 1, scale_units = 'xy', angles = 'xy', scale = 1, color = 'r')\n",
        "plt.xlim(-8, 8)\n",
        "plt.ylim(-8, 8)\n",
        "plt.show()"
      ],
      "metadata": {
        "colab": {
          "base_uri": "https://localhost:8080/",
          "height": 272
        },
        "id": "N9h0bkC6oqzL",
        "outputId": "e2b24c98-3c2f-4fad-d1a2-089f434f3d13"
      },
      "execution_count": 12,
      "outputs": [
        {
          "output_type": "display_data",
          "data": {
            "text/plain": [
              "<Figure size 432x288 with 1 Axes>"
            ],
            "image/png": "[encoded data removed]"
          },
          "metadata": {}
        }
      ]
    },
    {
      "cell_type": "markdown",
      "source": [
        "Subtraction of two vectors"
      ],
      "metadata": {
        "id": "uQIvgq_xpLlD"
      }
    },
    {
      "cell_type": "code",
      "source": [
        "vector1 = np.asarray([0, 0, 2, 3])\n",
        "vector2 = np.asarray([0, 0, 3, -2])\n",
        "difference = vector1 - vector2\n",
        "print(difference)"
      ],
      "metadata": {
        "colab": {
          "base_uri": "https://localhost:8080/"
        },
        "id": "HcNQBQ4Po_rr",
        "outputId": "b28b0fa3-7f2c-4ac2-efb1-7ea41e0163a6"
      },
      "execution_count": 13,
      "outputs": [
        {
          "output_type": "stream",
          "name": "stdout",
          "text": [
            "[ 0  0 -1  5]\n"
          ]
        }
      ]
    },
    {
      "cell_type": "code",
      "source": [
        "plt.quiver(0, 0, 2, 3, scale_units = 'xy', angles = 'xy', scale = 1, color = 'b')\n",
        "plt.quiver(0, 0, 3, -2, scale_units = 'xy', angles = 'xy', scale = 1, color = 'y')\n",
        "plt.quiver(0, 0, -1, 5, scale_units = 'xy', angles = 'xy', scale = 1, color = 'r')\n",
        "plt.xlim(-8, 8)\n",
        "plt.ylim(-8, 8)\n",
        "plt.show()"
      ],
      "metadata": {
        "colab": {
          "base_uri": "https://localhost:8080/",
          "height": 272
        },
        "id": "90IorFb2pSDY",
        "outputId": "30c2b796-03ca-41ac-d101-74febfb23483"
      },
      "execution_count": 14,
      "outputs": [
        {
          "output_type": "display_data",
          "data": {
            "text/plain": [
              "<Figure size 432x288 with 1 Axes>"
            ],
            "image/png": "[encoded data removed]"
          },
          "metadata": {}
        }
      ]
    },
    {
      "cell_type": "code",
      "source": [
        "vector1 = np.asarray([0, 0, 2, 3])\n",
        "vector2 = -0.5 * vector1\n",
        "print(vector2)"
      ],
      "metadata": {
        "colab": {
          "base_uri": "https://localhost:8080/"
        },
        "id": "8oRe-v8ypq4V",
        "outputId": "c1fe7c02-2fe1-4d63-a099-ba482b91929b"
      },
      "execution_count": 17,
      "outputs": [
        {
          "output_type": "stream",
          "name": "stdout",
          "text": [
            "[-0.  -0.  -1.  -1.5]\n"
          ]
        }
      ]
    },
    {
      "cell_type": "code",
      "source": [
        "plt.quiver(0, 0, 2, 3, scale_units = 'xy', angles = 'xy', scale = 1, color = 'b')\n",
        "plt.quiver(0, 0, -1, -1.5, scale_units = 'xy', angles = 'xy', scale = 1, color = 'r')\n",
        "plt.xlim(-8, 8)\n",
        "plt.ylim(-8, 8)\n",
        "plt.show()"
      ],
      "metadata": {
        "colab": {
          "base_uri": "https://localhost:8080/",
          "height": 272
        },
        "id": "ntQkbSATqANC",
        "outputId": "7c574626-9bff-4d8c-8158-c60c6cc70b7b"
      },
      "execution_count": 18,
      "outputs": [
        {
          "output_type": "display_data",
          "data": {
            "text/plain": [
              "<Figure size 432x288 with 1 Axes>"
            ],
            "image/png": "[encoded data removed]"
          },
          "metadata": {}
        }
      ]
    },
    {
      "cell_type": "code",
      "source": [
        "vector1 = np.asarray([0, 0, 2, 3])\n",
        "vector2 = 2 * vector1\n",
        "print(vector2)"
      ],
      "metadata": {
        "colab": {
          "base_uri": "https://localhost:8080/"
        },
        "id": "KVjRKetQqGTo",
        "outputId": "a9be827f-df87-41e3-ac11-2b8c1faa8141"
      },
      "execution_count": 19,
      "outputs": [
        {
          "output_type": "stream",
          "name": "stdout",
          "text": [
            "[0 0 4 6]\n"
          ]
        }
      ]
    },
    {
      "cell_type": "code",
      "source": [
        "plt.quiver(0, 0, 2, 3, scale_units = 'xy', angles = 'xy', scale = 1, color = 'b')\n",
        "plt.quiver(0, 0, 4, 6, scale_units = 'xy', angles = 'xy', scale = 1, color = 'r')\n",
        "plt.xlim(-8, 8)\n",
        "plt.ylim(-8, 8)\n",
        "plt.show()"
      ],
      "metadata": {
        "colab": {
          "base_uri": "https://localhost:8080/",
          "height": 272
        },
        "id": "tnlhjVKQqRP1",
        "outputId": "737d1376-a3bb-4043-8a90-4accba79eb73"
      },
      "execution_count": 20,
      "outputs": [
        {
          "output_type": "display_data",
          "data": {
            "text/plain": [
              "<Figure size 432x288 with 1 Axes>"
            ],
            "image/png": "[encoded data removed]"
          },
          "metadata": {}
        }
      ]
    }
  ]
}